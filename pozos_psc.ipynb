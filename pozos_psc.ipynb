{
 "cells": [
  {
   "cell_type": "markdown",
   "metadata": {},
   "source": [
    "# Proyecto Sprint 11"
   ]
  },
  {
   "cell_type": "code",
   "execution_count": 1,
   "metadata": {
    "trusted": true
   },
   "outputs": [],
   "source": [
    "#Importamos las librerias necesarias \n",
    "import pandas as pd\n",
    "import numpy as np\n",
    "from sklearn.model_selection import train_test_split\n",
    "from sklearn.linear_model import LinearRegression\n",
    "from sklearn.metrics import mean_squared_error\n",
    "import matplotlib.pyplot as plt"
   ]
  },
  {
   "cell_type": "code",
   "execution_count": 2,
   "metadata": {
    "trusted": true
   },
   "outputs": [],
   "source": [
    "#Cargamos los datos\n",
    "dt_0 = pd.read_csv('/datasets/geo_data_0.csv')\n",
    "dt_1 = pd.read_csv('/datasets/geo_data_1.csv')\n",
    "dt_2 = pd.read_csv('/datasets/geo_data_2.csv')"
   ]
  },
  {
   "cell_type": "markdown",
   "metadata": {},
   "source": [
    "## Analisis de datos"
   ]
  },
  {
   "cell_type": "markdown",
   "metadata": {},
   "source": [
    "### Primer dataset"
   ]
  },
  {
   "cell_type": "markdown",
   "metadata": {},
   "source": [
    "-id — identificador único de pozo de petróleo\n",
    "\n",
    "-f0, f1, f2 — tres características de los puntos\n",
    "\n",
    "-product — volumen de reservas en el pozo de petróleo (miles de barriles)."
   ]
  },
  {
   "cell_type": "code",
   "execution_count": 3,
   "metadata": {
    "scrolled": false,
    "trusted": true
   },
   "outputs": [
    {
     "data": {
      "text/html": [
       "<div>\n",
       "<style scoped>\n",
       "    .dataframe tbody tr th:only-of-type {\n",
       "        vertical-align: middle;\n",
       "    }\n",
       "\n",
       "    .dataframe tbody tr th {\n",
       "        vertical-align: top;\n",
       "    }\n",
       "\n",
       "    .dataframe thead th {\n",
       "        text-align: right;\n",
       "    }\n",
       "</style>\n",
       "<table border=\"1\" class=\"dataframe\">\n",
       "  <thead>\n",
       "    <tr style=\"text-align: right;\">\n",
       "      <th></th>\n",
       "      <th>id</th>\n",
       "      <th>f0</th>\n",
       "      <th>f1</th>\n",
       "      <th>f2</th>\n",
       "      <th>product</th>\n",
       "    </tr>\n",
       "  </thead>\n",
       "  <tbody>\n",
       "    <tr>\n",
       "      <th>0</th>\n",
       "      <td>txEyH</td>\n",
       "      <td>0.705745</td>\n",
       "      <td>-0.497823</td>\n",
       "      <td>1.221170</td>\n",
       "      <td>105.280062</td>\n",
       "    </tr>\n",
       "    <tr>\n",
       "      <th>1</th>\n",
       "      <td>2acmU</td>\n",
       "      <td>1.334711</td>\n",
       "      <td>-0.340164</td>\n",
       "      <td>4.365080</td>\n",
       "      <td>73.037750</td>\n",
       "    </tr>\n",
       "    <tr>\n",
       "      <th>2</th>\n",
       "      <td>409Wp</td>\n",
       "      <td>1.022732</td>\n",
       "      <td>0.151990</td>\n",
       "      <td>1.419926</td>\n",
       "      <td>85.265647</td>\n",
       "    </tr>\n",
       "    <tr>\n",
       "      <th>3</th>\n",
       "      <td>iJLyR</td>\n",
       "      <td>-0.032172</td>\n",
       "      <td>0.139033</td>\n",
       "      <td>2.978566</td>\n",
       "      <td>168.620776</td>\n",
       "    </tr>\n",
       "    <tr>\n",
       "      <th>4</th>\n",
       "      <td>Xdl7t</td>\n",
       "      <td>1.988431</td>\n",
       "      <td>0.155413</td>\n",
       "      <td>4.751769</td>\n",
       "      <td>154.036647</td>\n",
       "    </tr>\n",
       "    <tr>\n",
       "      <th>...</th>\n",
       "      <td>...</td>\n",
       "      <td>...</td>\n",
       "      <td>...</td>\n",
       "      <td>...</td>\n",
       "      <td>...</td>\n",
       "    </tr>\n",
       "    <tr>\n",
       "      <th>99995</th>\n",
       "      <td>DLsed</td>\n",
       "      <td>0.971957</td>\n",
       "      <td>0.370953</td>\n",
       "      <td>6.075346</td>\n",
       "      <td>110.744026</td>\n",
       "    </tr>\n",
       "    <tr>\n",
       "      <th>99996</th>\n",
       "      <td>QKivN</td>\n",
       "      <td>1.392429</td>\n",
       "      <td>-0.382606</td>\n",
       "      <td>1.273912</td>\n",
       "      <td>122.346843</td>\n",
       "    </tr>\n",
       "    <tr>\n",
       "      <th>99997</th>\n",
       "      <td>3rnvd</td>\n",
       "      <td>1.029585</td>\n",
       "      <td>0.018787</td>\n",
       "      <td>-1.348308</td>\n",
       "      <td>64.375443</td>\n",
       "    </tr>\n",
       "    <tr>\n",
       "      <th>99998</th>\n",
       "      <td>7kl59</td>\n",
       "      <td>0.998163</td>\n",
       "      <td>-0.528582</td>\n",
       "      <td>1.583869</td>\n",
       "      <td>74.040764</td>\n",
       "    </tr>\n",
       "    <tr>\n",
       "      <th>99999</th>\n",
       "      <td>1CWhH</td>\n",
       "      <td>1.764754</td>\n",
       "      <td>-0.266417</td>\n",
       "      <td>5.722849</td>\n",
       "      <td>149.633246</td>\n",
       "    </tr>\n",
       "  </tbody>\n",
       "</table>\n",
       "<p>100000 rows × 5 columns</p>\n",
       "</div>"
      ],
      "text/plain": [
       "          id        f0        f1        f2     product\n",
       "0      txEyH  0.705745 -0.497823  1.221170  105.280062\n",
       "1      2acmU  1.334711 -0.340164  4.365080   73.037750\n",
       "2      409Wp  1.022732  0.151990  1.419926   85.265647\n",
       "3      iJLyR -0.032172  0.139033  2.978566  168.620776\n",
       "4      Xdl7t  1.988431  0.155413  4.751769  154.036647\n",
       "...      ...       ...       ...       ...         ...\n",
       "99995  DLsed  0.971957  0.370953  6.075346  110.744026\n",
       "99996  QKivN  1.392429 -0.382606  1.273912  122.346843\n",
       "99997  3rnvd  1.029585  0.018787 -1.348308   64.375443\n",
       "99998  7kl59  0.998163 -0.528582  1.583869   74.040764\n",
       "99999  1CWhH  1.764754 -0.266417  5.722849  149.633246\n",
       "\n",
       "[100000 rows x 5 columns]"
      ]
     },
     "execution_count": 3,
     "metadata": {},
     "output_type": "execute_result"
    }
   ],
   "source": [
    "dt_0"
   ]
  },
  {
   "cell_type": "code",
   "execution_count": 4,
   "metadata": {
    "trusted": true
   },
   "outputs": [
    {
     "name": "stdout",
     "output_type": "stream",
     "text": [
      "<class 'pandas.core.frame.DataFrame'>\n",
      "RangeIndex: 100000 entries, 0 to 99999\n",
      "Data columns (total 5 columns):\n",
      " #   Column   Non-Null Count   Dtype  \n",
      "---  ------   --------------   -----  \n",
      " 0   id       100000 non-null  object \n",
      " 1   f0       100000 non-null  float64\n",
      " 2   f1       100000 non-null  float64\n",
      " 3   f2       100000 non-null  float64\n",
      " 4   product  100000 non-null  float64\n",
      "dtypes: float64(4), object(1)\n",
      "memory usage: 3.8+ MB\n"
     ]
    },
    {
     "data": {
      "text/html": [
       "<div>\n",
       "<style scoped>\n",
       "    .dataframe tbody tr th:only-of-type {\n",
       "        vertical-align: middle;\n",
       "    }\n",
       "\n",
       "    .dataframe tbody tr th {\n",
       "        vertical-align: top;\n",
       "    }\n",
       "\n",
       "    .dataframe thead th {\n",
       "        text-align: right;\n",
       "    }\n",
       "</style>\n",
       "<table border=\"1\" class=\"dataframe\">\n",
       "  <thead>\n",
       "    <tr style=\"text-align: right;\">\n",
       "      <th></th>\n",
       "      <th>f0</th>\n",
       "      <th>f1</th>\n",
       "      <th>f2</th>\n",
       "      <th>product</th>\n",
       "    </tr>\n",
       "  </thead>\n",
       "  <tbody>\n",
       "    <tr>\n",
       "      <th>count</th>\n",
       "      <td>100000.000000</td>\n",
       "      <td>100000.000000</td>\n",
       "      <td>100000.000000</td>\n",
       "      <td>100000.000000</td>\n",
       "    </tr>\n",
       "    <tr>\n",
       "      <th>mean</th>\n",
       "      <td>0.500419</td>\n",
       "      <td>0.250143</td>\n",
       "      <td>2.502647</td>\n",
       "      <td>92.500000</td>\n",
       "    </tr>\n",
       "    <tr>\n",
       "      <th>std</th>\n",
       "      <td>0.871832</td>\n",
       "      <td>0.504433</td>\n",
       "      <td>3.248248</td>\n",
       "      <td>44.288691</td>\n",
       "    </tr>\n",
       "    <tr>\n",
       "      <th>min</th>\n",
       "      <td>-1.408605</td>\n",
       "      <td>-0.848218</td>\n",
       "      <td>-12.088328</td>\n",
       "      <td>0.000000</td>\n",
       "    </tr>\n",
       "    <tr>\n",
       "      <th>25%</th>\n",
       "      <td>-0.072580</td>\n",
       "      <td>-0.200881</td>\n",
       "      <td>0.287748</td>\n",
       "      <td>56.497507</td>\n",
       "    </tr>\n",
       "    <tr>\n",
       "      <th>50%</th>\n",
       "      <td>0.502360</td>\n",
       "      <td>0.250252</td>\n",
       "      <td>2.515969</td>\n",
       "      <td>91.849972</td>\n",
       "    </tr>\n",
       "    <tr>\n",
       "      <th>75%</th>\n",
       "      <td>1.073581</td>\n",
       "      <td>0.700646</td>\n",
       "      <td>4.715088</td>\n",
       "      <td>128.564089</td>\n",
       "    </tr>\n",
       "    <tr>\n",
       "      <th>max</th>\n",
       "      <td>2.362331</td>\n",
       "      <td>1.343769</td>\n",
       "      <td>16.003790</td>\n",
       "      <td>185.364347</td>\n",
       "    </tr>\n",
       "  </tbody>\n",
       "</table>\n",
       "</div>"
      ],
      "text/plain": [
       "                  f0             f1             f2        product\n",
       "count  100000.000000  100000.000000  100000.000000  100000.000000\n",
       "mean        0.500419       0.250143       2.502647      92.500000\n",
       "std         0.871832       0.504433       3.248248      44.288691\n",
       "min        -1.408605      -0.848218     -12.088328       0.000000\n",
       "25%        -0.072580      -0.200881       0.287748      56.497507\n",
       "50%         0.502360       0.250252       2.515969      91.849972\n",
       "75%         1.073581       0.700646       4.715088     128.564089\n",
       "max         2.362331       1.343769      16.003790     185.364347"
      ]
     },
     "execution_count": 4,
     "metadata": {},
     "output_type": "execute_result"
    }
   ],
   "source": [
    "dt_0.info()\n",
    "dt_0.describe()"
   ]
  },
  {
   "cell_type": "markdown",
   "metadata": {},
   "source": [
    "### Segundo dataset"
   ]
  },
  {
   "cell_type": "code",
   "execution_count": 5,
   "metadata": {
    "scrolled": true,
    "trusted": true
   },
   "outputs": [
    {
     "data": {
      "text/html": [
       "<div>\n",
       "<style scoped>\n",
       "    .dataframe tbody tr th:only-of-type {\n",
       "        vertical-align: middle;\n",
       "    }\n",
       "\n",
       "    .dataframe tbody tr th {\n",
       "        vertical-align: top;\n",
       "    }\n",
       "\n",
       "    .dataframe thead th {\n",
       "        text-align: right;\n",
       "    }\n",
       "</style>\n",
       "<table border=\"1\" class=\"dataframe\">\n",
       "  <thead>\n",
       "    <tr style=\"text-align: right;\">\n",
       "      <th></th>\n",
       "      <th>id</th>\n",
       "      <th>f0</th>\n",
       "      <th>f1</th>\n",
       "      <th>f2</th>\n",
       "      <th>product</th>\n",
       "    </tr>\n",
       "  </thead>\n",
       "  <tbody>\n",
       "    <tr>\n",
       "      <th>0</th>\n",
       "      <td>kBEdx</td>\n",
       "      <td>-15.001348</td>\n",
       "      <td>-8.276000</td>\n",
       "      <td>-0.005876</td>\n",
       "      <td>3.179103</td>\n",
       "    </tr>\n",
       "    <tr>\n",
       "      <th>1</th>\n",
       "      <td>62mP7</td>\n",
       "      <td>14.272088</td>\n",
       "      <td>-3.475083</td>\n",
       "      <td>0.999183</td>\n",
       "      <td>26.953261</td>\n",
       "    </tr>\n",
       "    <tr>\n",
       "      <th>2</th>\n",
       "      <td>vyE1P</td>\n",
       "      <td>6.263187</td>\n",
       "      <td>-5.948386</td>\n",
       "      <td>5.001160</td>\n",
       "      <td>134.766305</td>\n",
       "    </tr>\n",
       "    <tr>\n",
       "      <th>3</th>\n",
       "      <td>KcrkZ</td>\n",
       "      <td>-13.081196</td>\n",
       "      <td>-11.506057</td>\n",
       "      <td>4.999415</td>\n",
       "      <td>137.945408</td>\n",
       "    </tr>\n",
       "    <tr>\n",
       "      <th>4</th>\n",
       "      <td>AHL4O</td>\n",
       "      <td>12.702195</td>\n",
       "      <td>-8.147433</td>\n",
       "      <td>5.004363</td>\n",
       "      <td>134.766305</td>\n",
       "    </tr>\n",
       "    <tr>\n",
       "      <th>...</th>\n",
       "      <td>...</td>\n",
       "      <td>...</td>\n",
       "      <td>...</td>\n",
       "      <td>...</td>\n",
       "      <td>...</td>\n",
       "    </tr>\n",
       "    <tr>\n",
       "      <th>99995</th>\n",
       "      <td>QywKC</td>\n",
       "      <td>9.535637</td>\n",
       "      <td>-6.878139</td>\n",
       "      <td>1.998296</td>\n",
       "      <td>53.906522</td>\n",
       "    </tr>\n",
       "    <tr>\n",
       "      <th>99996</th>\n",
       "      <td>ptvty</td>\n",
       "      <td>-10.160631</td>\n",
       "      <td>-12.558096</td>\n",
       "      <td>5.005581</td>\n",
       "      <td>137.945408</td>\n",
       "    </tr>\n",
       "    <tr>\n",
       "      <th>99997</th>\n",
       "      <td>09gWa</td>\n",
       "      <td>-7.378891</td>\n",
       "      <td>-3.084104</td>\n",
       "      <td>4.998651</td>\n",
       "      <td>137.945408</td>\n",
       "    </tr>\n",
       "    <tr>\n",
       "      <th>99998</th>\n",
       "      <td>rqwUm</td>\n",
       "      <td>0.665714</td>\n",
       "      <td>-6.152593</td>\n",
       "      <td>1.000146</td>\n",
       "      <td>30.132364</td>\n",
       "    </tr>\n",
       "    <tr>\n",
       "      <th>99999</th>\n",
       "      <td>relB0</td>\n",
       "      <td>-3.426139</td>\n",
       "      <td>-7.794274</td>\n",
       "      <td>-0.003299</td>\n",
       "      <td>3.179103</td>\n",
       "    </tr>\n",
       "  </tbody>\n",
       "</table>\n",
       "<p>100000 rows × 5 columns</p>\n",
       "</div>"
      ],
      "text/plain": [
       "          id         f0         f1        f2     product\n",
       "0      kBEdx -15.001348  -8.276000 -0.005876    3.179103\n",
       "1      62mP7  14.272088  -3.475083  0.999183   26.953261\n",
       "2      vyE1P   6.263187  -5.948386  5.001160  134.766305\n",
       "3      KcrkZ -13.081196 -11.506057  4.999415  137.945408\n",
       "4      AHL4O  12.702195  -8.147433  5.004363  134.766305\n",
       "...      ...        ...        ...       ...         ...\n",
       "99995  QywKC   9.535637  -6.878139  1.998296   53.906522\n",
       "99996  ptvty -10.160631 -12.558096  5.005581  137.945408\n",
       "99997  09gWa  -7.378891  -3.084104  4.998651  137.945408\n",
       "99998  rqwUm   0.665714  -6.152593  1.000146   30.132364\n",
       "99999  relB0  -3.426139  -7.794274 -0.003299    3.179103\n",
       "\n",
       "[100000 rows x 5 columns]"
      ]
     },
     "execution_count": 5,
     "metadata": {},
     "output_type": "execute_result"
    }
   ],
   "source": [
    "dt_1"
   ]
  },
  {
   "cell_type": "code",
   "execution_count": 6,
   "metadata": {
    "trusted": true
   },
   "outputs": [
    {
     "name": "stdout",
     "output_type": "stream",
     "text": [
      "<class 'pandas.core.frame.DataFrame'>\n",
      "RangeIndex: 100000 entries, 0 to 99999\n",
      "Data columns (total 5 columns):\n",
      " #   Column   Non-Null Count   Dtype  \n",
      "---  ------   --------------   -----  \n",
      " 0   id       100000 non-null  object \n",
      " 1   f0       100000 non-null  float64\n",
      " 2   f1       100000 non-null  float64\n",
      " 3   f2       100000 non-null  float64\n",
      " 4   product  100000 non-null  float64\n",
      "dtypes: float64(4), object(1)\n",
      "memory usage: 3.8+ MB\n"
     ]
    },
    {
     "data": {
      "text/html": [
       "<div>\n",
       "<style scoped>\n",
       "    .dataframe tbody tr th:only-of-type {\n",
       "        vertical-align: middle;\n",
       "    }\n",
       "\n",
       "    .dataframe tbody tr th {\n",
       "        vertical-align: top;\n",
       "    }\n",
       "\n",
       "    .dataframe thead th {\n",
       "        text-align: right;\n",
       "    }\n",
       "</style>\n",
       "<table border=\"1\" class=\"dataframe\">\n",
       "  <thead>\n",
       "    <tr style=\"text-align: right;\">\n",
       "      <th></th>\n",
       "      <th>f0</th>\n",
       "      <th>f1</th>\n",
       "      <th>f2</th>\n",
       "      <th>product</th>\n",
       "    </tr>\n",
       "  </thead>\n",
       "  <tbody>\n",
       "    <tr>\n",
       "      <th>count</th>\n",
       "      <td>100000.000000</td>\n",
       "      <td>100000.000000</td>\n",
       "      <td>100000.000000</td>\n",
       "      <td>100000.000000</td>\n",
       "    </tr>\n",
       "    <tr>\n",
       "      <th>mean</th>\n",
       "      <td>1.141296</td>\n",
       "      <td>-4.796579</td>\n",
       "      <td>2.494541</td>\n",
       "      <td>68.825000</td>\n",
       "    </tr>\n",
       "    <tr>\n",
       "      <th>std</th>\n",
       "      <td>8.965932</td>\n",
       "      <td>5.119872</td>\n",
       "      <td>1.703572</td>\n",
       "      <td>45.944423</td>\n",
       "    </tr>\n",
       "    <tr>\n",
       "      <th>min</th>\n",
       "      <td>-31.609576</td>\n",
       "      <td>-26.358598</td>\n",
       "      <td>-0.018144</td>\n",
       "      <td>0.000000</td>\n",
       "    </tr>\n",
       "    <tr>\n",
       "      <th>25%</th>\n",
       "      <td>-6.298551</td>\n",
       "      <td>-8.267985</td>\n",
       "      <td>1.000021</td>\n",
       "      <td>26.953261</td>\n",
       "    </tr>\n",
       "    <tr>\n",
       "      <th>50%</th>\n",
       "      <td>1.153055</td>\n",
       "      <td>-4.813172</td>\n",
       "      <td>2.011479</td>\n",
       "      <td>57.085625</td>\n",
       "    </tr>\n",
       "    <tr>\n",
       "      <th>75%</th>\n",
       "      <td>8.621015</td>\n",
       "      <td>-1.332816</td>\n",
       "      <td>3.999904</td>\n",
       "      <td>107.813044</td>\n",
       "    </tr>\n",
       "    <tr>\n",
       "      <th>max</th>\n",
       "      <td>29.421755</td>\n",
       "      <td>18.734063</td>\n",
       "      <td>5.019721</td>\n",
       "      <td>137.945408</td>\n",
       "    </tr>\n",
       "  </tbody>\n",
       "</table>\n",
       "</div>"
      ],
      "text/plain": [
       "                  f0             f1             f2        product\n",
       "count  100000.000000  100000.000000  100000.000000  100000.000000\n",
       "mean        1.141296      -4.796579       2.494541      68.825000\n",
       "std         8.965932       5.119872       1.703572      45.944423\n",
       "min       -31.609576     -26.358598      -0.018144       0.000000\n",
       "25%        -6.298551      -8.267985       1.000021      26.953261\n",
       "50%         1.153055      -4.813172       2.011479      57.085625\n",
       "75%         8.621015      -1.332816       3.999904     107.813044\n",
       "max        29.421755      18.734063       5.019721     137.945408"
      ]
     },
     "execution_count": 6,
     "metadata": {},
     "output_type": "execute_result"
    }
   ],
   "source": [
    "dt_1.info()\n",
    "dt_1.describe()"
   ]
  },
  {
   "cell_type": "markdown",
   "metadata": {},
   "source": [
    "### Tercer dataset"
   ]
  },
  {
   "cell_type": "code",
   "execution_count": 7,
   "metadata": {
    "trusted": true
   },
   "outputs": [
    {
     "data": {
      "text/html": [
       "<div>\n",
       "<style scoped>\n",
       "    .dataframe tbody tr th:only-of-type {\n",
       "        vertical-align: middle;\n",
       "    }\n",
       "\n",
       "    .dataframe tbody tr th {\n",
       "        vertical-align: top;\n",
       "    }\n",
       "\n",
       "    .dataframe thead th {\n",
       "        text-align: right;\n",
       "    }\n",
       "</style>\n",
       "<table border=\"1\" class=\"dataframe\">\n",
       "  <thead>\n",
       "    <tr style=\"text-align: right;\">\n",
       "      <th></th>\n",
       "      <th>id</th>\n",
       "      <th>f0</th>\n",
       "      <th>f1</th>\n",
       "      <th>f2</th>\n",
       "      <th>product</th>\n",
       "    </tr>\n",
       "  </thead>\n",
       "  <tbody>\n",
       "    <tr>\n",
       "      <th>0</th>\n",
       "      <td>fwXo0</td>\n",
       "      <td>-1.146987</td>\n",
       "      <td>0.963328</td>\n",
       "      <td>-0.828965</td>\n",
       "      <td>27.758673</td>\n",
       "    </tr>\n",
       "    <tr>\n",
       "      <th>1</th>\n",
       "      <td>WJtFt</td>\n",
       "      <td>0.262778</td>\n",
       "      <td>0.269839</td>\n",
       "      <td>-2.530187</td>\n",
       "      <td>56.069697</td>\n",
       "    </tr>\n",
       "    <tr>\n",
       "      <th>2</th>\n",
       "      <td>ovLUW</td>\n",
       "      <td>0.194587</td>\n",
       "      <td>0.289035</td>\n",
       "      <td>-5.586433</td>\n",
       "      <td>62.871910</td>\n",
       "    </tr>\n",
       "    <tr>\n",
       "      <th>3</th>\n",
       "      <td>q6cA6</td>\n",
       "      <td>2.236060</td>\n",
       "      <td>-0.553760</td>\n",
       "      <td>0.930038</td>\n",
       "      <td>114.572842</td>\n",
       "    </tr>\n",
       "    <tr>\n",
       "      <th>4</th>\n",
       "      <td>WPMUX</td>\n",
       "      <td>-0.515993</td>\n",
       "      <td>1.716266</td>\n",
       "      <td>5.899011</td>\n",
       "      <td>149.600746</td>\n",
       "    </tr>\n",
       "    <tr>\n",
       "      <th>...</th>\n",
       "      <td>...</td>\n",
       "      <td>...</td>\n",
       "      <td>...</td>\n",
       "      <td>...</td>\n",
       "      <td>...</td>\n",
       "    </tr>\n",
       "    <tr>\n",
       "      <th>99995</th>\n",
       "      <td>4GxBu</td>\n",
       "      <td>-1.777037</td>\n",
       "      <td>1.125220</td>\n",
       "      <td>6.263374</td>\n",
       "      <td>172.327046</td>\n",
       "    </tr>\n",
       "    <tr>\n",
       "      <th>99996</th>\n",
       "      <td>YKFjq</td>\n",
       "      <td>-1.261523</td>\n",
       "      <td>-0.894828</td>\n",
       "      <td>2.524545</td>\n",
       "      <td>138.748846</td>\n",
       "    </tr>\n",
       "    <tr>\n",
       "      <th>99997</th>\n",
       "      <td>tKPY3</td>\n",
       "      <td>-1.199934</td>\n",
       "      <td>-2.957637</td>\n",
       "      <td>5.219411</td>\n",
       "      <td>157.080080</td>\n",
       "    </tr>\n",
       "    <tr>\n",
       "      <th>99998</th>\n",
       "      <td>nmxp2</td>\n",
       "      <td>-2.419896</td>\n",
       "      <td>2.417221</td>\n",
       "      <td>-5.548444</td>\n",
       "      <td>51.795253</td>\n",
       "    </tr>\n",
       "    <tr>\n",
       "      <th>99999</th>\n",
       "      <td>V9kWn</td>\n",
       "      <td>-2.551421</td>\n",
       "      <td>-2.025625</td>\n",
       "      <td>6.090891</td>\n",
       "      <td>102.775767</td>\n",
       "    </tr>\n",
       "  </tbody>\n",
       "</table>\n",
       "<p>100000 rows × 5 columns</p>\n",
       "</div>"
      ],
      "text/plain": [
       "          id        f0        f1        f2     product\n",
       "0      fwXo0 -1.146987  0.963328 -0.828965   27.758673\n",
       "1      WJtFt  0.262778  0.269839 -2.530187   56.069697\n",
       "2      ovLUW  0.194587  0.289035 -5.586433   62.871910\n",
       "3      q6cA6  2.236060 -0.553760  0.930038  114.572842\n",
       "4      WPMUX -0.515993  1.716266  5.899011  149.600746\n",
       "...      ...       ...       ...       ...         ...\n",
       "99995  4GxBu -1.777037  1.125220  6.263374  172.327046\n",
       "99996  YKFjq -1.261523 -0.894828  2.524545  138.748846\n",
       "99997  tKPY3 -1.199934 -2.957637  5.219411  157.080080\n",
       "99998  nmxp2 -2.419896  2.417221 -5.548444   51.795253\n",
       "99999  V9kWn -2.551421 -2.025625  6.090891  102.775767\n",
       "\n",
       "[100000 rows x 5 columns]"
      ]
     },
     "execution_count": 7,
     "metadata": {},
     "output_type": "execute_result"
    }
   ],
   "source": [
    "dt_2"
   ]
  },
  {
   "cell_type": "code",
   "execution_count": 8,
   "metadata": {
    "trusted": true
   },
   "outputs": [
    {
     "name": "stdout",
     "output_type": "stream",
     "text": [
      "<class 'pandas.core.frame.DataFrame'>\n",
      "RangeIndex: 100000 entries, 0 to 99999\n",
      "Data columns (total 5 columns):\n",
      " #   Column   Non-Null Count   Dtype  \n",
      "---  ------   --------------   -----  \n",
      " 0   id       100000 non-null  object \n",
      " 1   f0       100000 non-null  float64\n",
      " 2   f1       100000 non-null  float64\n",
      " 3   f2       100000 non-null  float64\n",
      " 4   product  100000 non-null  float64\n",
      "dtypes: float64(4), object(1)\n",
      "memory usage: 3.8+ MB\n"
     ]
    },
    {
     "data": {
      "text/html": [
       "<div>\n",
       "<style scoped>\n",
       "    .dataframe tbody tr th:only-of-type {\n",
       "        vertical-align: middle;\n",
       "    }\n",
       "\n",
       "    .dataframe tbody tr th {\n",
       "        vertical-align: top;\n",
       "    }\n",
       "\n",
       "    .dataframe thead th {\n",
       "        text-align: right;\n",
       "    }\n",
       "</style>\n",
       "<table border=\"1\" class=\"dataframe\">\n",
       "  <thead>\n",
       "    <tr style=\"text-align: right;\">\n",
       "      <th></th>\n",
       "      <th>f0</th>\n",
       "      <th>f1</th>\n",
       "      <th>f2</th>\n",
       "      <th>product</th>\n",
       "    </tr>\n",
       "  </thead>\n",
       "  <tbody>\n",
       "    <tr>\n",
       "      <th>count</th>\n",
       "      <td>100000.000000</td>\n",
       "      <td>100000.000000</td>\n",
       "      <td>100000.000000</td>\n",
       "      <td>100000.000000</td>\n",
       "    </tr>\n",
       "    <tr>\n",
       "      <th>mean</th>\n",
       "      <td>0.002023</td>\n",
       "      <td>-0.002081</td>\n",
       "      <td>2.495128</td>\n",
       "      <td>95.000000</td>\n",
       "    </tr>\n",
       "    <tr>\n",
       "      <th>std</th>\n",
       "      <td>1.732045</td>\n",
       "      <td>1.730417</td>\n",
       "      <td>3.473445</td>\n",
       "      <td>44.749921</td>\n",
       "    </tr>\n",
       "    <tr>\n",
       "      <th>min</th>\n",
       "      <td>-8.760004</td>\n",
       "      <td>-7.084020</td>\n",
       "      <td>-11.970335</td>\n",
       "      <td>0.000000</td>\n",
       "    </tr>\n",
       "    <tr>\n",
       "      <th>25%</th>\n",
       "      <td>-1.162288</td>\n",
       "      <td>-1.174820</td>\n",
       "      <td>0.130359</td>\n",
       "      <td>59.450441</td>\n",
       "    </tr>\n",
       "    <tr>\n",
       "      <th>50%</th>\n",
       "      <td>0.009424</td>\n",
       "      <td>-0.009482</td>\n",
       "      <td>2.484236</td>\n",
       "      <td>94.925613</td>\n",
       "    </tr>\n",
       "    <tr>\n",
       "      <th>75%</th>\n",
       "      <td>1.158535</td>\n",
       "      <td>1.163678</td>\n",
       "      <td>4.858794</td>\n",
       "      <td>130.595027</td>\n",
       "    </tr>\n",
       "    <tr>\n",
       "      <th>max</th>\n",
       "      <td>7.238262</td>\n",
       "      <td>7.844801</td>\n",
       "      <td>16.739402</td>\n",
       "      <td>190.029838</td>\n",
       "    </tr>\n",
       "  </tbody>\n",
       "</table>\n",
       "</div>"
      ],
      "text/plain": [
       "                  f0             f1             f2        product\n",
       "count  100000.000000  100000.000000  100000.000000  100000.000000\n",
       "mean        0.002023      -0.002081       2.495128      95.000000\n",
       "std         1.732045       1.730417       3.473445      44.749921\n",
       "min        -8.760004      -7.084020     -11.970335       0.000000\n",
       "25%        -1.162288      -1.174820       0.130359      59.450441\n",
       "50%         0.009424      -0.009482       2.484236      94.925613\n",
       "75%         1.158535       1.163678       4.858794     130.595027\n",
       "max         7.238262       7.844801      16.739402     190.029838"
      ]
     },
     "execution_count": 8,
     "metadata": {},
     "output_type": "execute_result"
    }
   ],
   "source": [
    "dt_2.info()\n",
    "dt_2.describe()"
   ]
  },
  {
   "cell_type": "markdown",
   "metadata": {},
   "source": [
    "Verificamos que niguno de los datasets tiene valores ausentes y que el tipo de datos corresponde con la columna"
   ]
  },
  {
   "cell_type": "markdown",
   "metadata": {},
   "source": [
    "# Dividir datos y entrenar el modelo"
   ]
  },
  {
   "cell_type": "code",
   "execution_count": 9,
   "metadata": {
    "trusted": true
   },
   "outputs": [
    {
     "name": "stdout",
     "output_type": "stream",
     "text": [
      "\n",
      "--- Procesando región Región 0 ---\n",
      "RMSE: 37.5794217150813\n",
      "Volumen medio real: 92.07859674082927 miles de barriles\n",
      "Volumen medio predicho: 92.59256778438035 miles de barriles\n",
      "\n",
      "--- Procesando región Región 1 ---\n",
      "RMSE: 0.893099286775617\n",
      "Volumen medio real: 68.72313602435997 miles de barriles\n",
      "Volumen medio predicho: 68.728546895446 miles de barriles\n",
      "\n",
      "--- Procesando región Región 2 ---\n",
      "RMSE: 40.02970873393434\n",
      "Volumen medio real: 94.88423280885438 miles de barriles\n",
      "Volumen medio predicho: 94.96504596800489 miles de barriles\n"
     ]
    }
   ],
   "source": [
    "def train_and_evaluate(data, region_name):\n",
    "    print(f\"\\n--- Procesando región {region_name} ---\")\n",
    "\n",
    "    # Separar características y objetivo\n",
    "    target = data['product']\n",
    "    features = data.drop(['product', 'id'], axis=1)\n",
    "\n",
    "    # División del conjunto en entrenamiento y validación\n",
    "    features_train, features_valid, target_train, target_valid = train_test_split(\n",
    "        features, target, test_size=0.25, random_state=12345\n",
    "    )\n",
    "\n",
    "    # Entrenamiento del modelo de regresion linear \n",
    "    model = LinearRegression()\n",
    "    model.fit(features_train, target_train)\n",
    "\n",
    "    # Predicciones para validación\n",
    "    predictions_valid = model.predict(features_valid)\n",
    "\n",
    "    # Restablecer índices\n",
    "    predictions_valid = pd.Series(predictions_valid, index=target_valid.index)\n",
    "    target_valid = target_valid.reset_index(drop=True)\n",
    "    predictions_valid = predictions_valid.reset_index(drop=True)\n",
    "\n",
    "    # Evaluación del modelo\n",
    "    rmse = np.sqrt(mean_squared_error(target_valid, predictions_valid))\n",
    "    print(f\"RMSE: {rmse}\")\n",
    "    print(f\"Volumen medio real: {target_valid.mean()} miles de barriles\") \n",
    "    print(f\"Volumen medio predicho: {predictions_valid.mean()} miles de barriles\")\n",
    "\n",
    "    return model, predictions_valid, target_valid\n",
    "\n",
    "# Ejecutar para las tres regiones\n",
    "model_0, predictions_0, target_0 = train_and_evaluate(dt_0, \"Región 0\")\n",
    "model_1, predictions_1, target_1 = train_and_evaluate(dt_1, \"Región 1\")\n",
    "model_2, predictions_2, target_2 = train_and_evaluate(dt_2, \"Región 2\")\n",
    "\n"
   ]
  },
  {
   "cell_type": "markdown",
   "metadata": {},
   "source": [
    "- En la region 0 , 1 y 2 el volumen medio predicho fue ligeramente superior al valor medio real.\n",
    "- Las regiones 2 y 0 , son respectivamente las que tienen mayor volumen de barriles.\n"
   ]
  },
  {
   "cell_type": "markdown",
   "metadata": {},
   "source": [
    "# Calculo de ganancias"
   ]
  },
  {
   "cell_type": "code",
   "execution_count": 10,
   "metadata": {
    "trusted": true
   },
   "outputs": [],
   "source": [
    "# Variables globales\n",
    "BARRIL_PRECIO = 4.5\n",
    "INVERSIÓN = 1e8\n",
    "POZOS_SELECCIONADOS = 200\n",
    "VALOR_UMBRAL = INVERSIÓN / POZOS_SELECCIONADOS  # 500,000 dólares por pozo"
   ]
  },
  {
   "cell_type": "code",
   "execution_count": 11,
   "metadata": {
    "scrolled": true,
    "trusted": true
   },
   "outputs": [
    {
     "name": "stdout",
     "output_type": "stream",
     "text": [
      "Ganancias estimadas para la Región 0: 33208260.43139851 USD\n",
      "Ganancias estimadas para la Región 1: 24150866.966815114 USD\n",
      "Ganancias estimadas para la Región 2: 27103499.635998324 USD\n"
     ]
    }
   ],
   "source": [
    "# Función para calcular ganancias\n",
    "def calculate_profit(predictions, target):\n",
    "    # Seleccionar los 200 pozos con mayor predicción\n",
    "    selected_indices = predictions.sort_values(ascending=False).head(POZOS_SELECCIONADOS).index\n",
    "    selected_reserves = target[selected_indices]\n",
    "\n",
    "    # Calcular ganancias\n",
    "    total_profit = (selected_reserves.sum() * 1000 * BARRIL_PRECIO) - INVERSIÓN\n",
    "    return total_profit\n",
    "# Calcular ganancias para cada región\n",
    "profit_0 = calculate_profit(pd.Series(predictions_0), target_0)\n",
    "profit_1 = calculate_profit(pd.Series(predictions_1), target_1)\n",
    "profit_2 = calculate_profit(pd.Series(predictions_2), target_2)\n",
    "\n",
    "print('Ganancias estimadas para la Región 0:' , profit_0 ,  'USD')\n",
    "print('Ganancias estimadas para la Región 1:' , profit_1 , 'USD')\n",
    "print('Ganancias estimadas para la Región 2:' , profit_2 , 'USD')\n"
   ]
  },
  {
   "cell_type": "markdown",
   "metadata": {},
   "source": [
    "-Las regiones con mayores ganancias respectivamente region 0, 2 y 1."
   ]
  },
  {
   "cell_type": "markdown",
   "metadata": {},
   "source": [
    "# Analisis de riesgos bootstrapping"
   ]
  },
  {
   "cell_type": "code",
   "execution_count": 12,
   "metadata": {
    "trusted": true
   },
   "outputs": [
    {
     "name": "stdout",
     "output_type": "stream",
     "text": [
      "\n",
      "--- Análisis de riesgos ---\n",
      "Región 0: Ganancia promedio: 166582113.4700342, Intervalo: (126733276.04177809, 195955029.99475732), Riesgo de pérdida: 0.00%\n",
      "Región 1: Ganancia promedio: 148068330.3037326, Intervalo: (113533283.63957366, 174373415.99666137), Riesgo de pérdida: 0.00%\n",
      "Región 2: Ganancia promedio: 154336445.0383662, Intervalo: (117140157.94097625, 183210176.90893748), Riesgo de pérdida: 0.00%\n"
     ]
    }
   ],
   "source": [
    "def risk_analysis(predictions, target, n_bootstrap=1000):\n",
    "    np.random.seed(12345)\n",
    "    profits = []\n",
    "    \n",
    "    for _ in range(n_bootstrap):\n",
    "        # Muestra aleatoria con reemplazo\n",
    "        sample_indices = np.random.choice(predictions.index, size=len(predictions), replace=True)\n",
    "        sample_predictions = predictions[sample_indices]\n",
    "        sample_target = target[sample_indices]\n",
    "        \n",
    "        # Calcular ganancias\n",
    "        profit = calculate_profit(pd.Series(sample_predictions), pd.Series(sample_target))\n",
    "        profits.append(profit)\n",
    "    \n",
    "    # Métricas\n",
    "    profits = np.array(profits)\n",
    "    mean_profit = profits.mean()#Ganancia promedio\n",
    "    lower_bound = np.percentile(profits, 0.5)## Límite inferior (IC 95%)\n",
    "    upper_bound = np.percentile(profits, 95)#Limite superior(IC 95%)\n",
    "    loss_risk = (profits < 0).mean() #Proporcion de muestras por ganancia\n",
    "    \n",
    "    return mean_profit, lower_bound, upper_bound, loss_risk\n",
    "\n",
    "print(\"\\n--- Análisis de riesgos ---\")\n",
    "\n",
    "# Lista de regiones con sus predicciones y valores reales\n",
    "regions_data = [\n",
    "    (pd.Series(predictions_0), target_0, \"Región 0\"),\n",
    "    (pd.Series(predictions_1), target_1, \"Región 1\"),\n",
    "    (pd.Series(predictions_2), target_2, \"Región 2\")\n",
    "]\n",
    "\n",
    "# Iterar sobre las regiones y realizar el análisis de riesgos\n",
    "for predictions, target, region in regions_data:\n",
    "    # Desempaquetar los valores retornados por risk_analysis\n",
    "    mean_profit, lower_bound, upper_bound, loss_risk = risk_analysis(predictions, target)\n",
    "    print(f\"{region}: Ganancia promedio: {mean_profit:}, \"\n",
    "          f\"Intervalo: ({lower_bound:}, {upper_bound:}), \"\n",
    "          f\"Riesgo de pérdida: {loss_risk:.2%}\")\n",
    "\n"
   ]
  },
  {
   "cell_type": "markdown",
   "metadata": {},
   "source": [
    "- Ninguna de las regiones presenta riesgo de perdida.\n",
    "\n",
    "- La region 0 presenta el intervalo mayor.\n",
    "\n",
    "- Las regiones com mayores ganancia son respectivamente region 0, region 2 y region 1.\n",
    "\n"
   ]
  },
  {
   "cell_type": "markdown",
   "metadata": {},
   "source": [
    "- La region 0 es la ideal para el desarrollo de pozos petroliferos, porque es la que presenta mayor ganancia y sin riesgo de perdida."
   ]
  }
 ],
 "metadata": {
  "ExecuteTimeLog": [
   {
    "duration": 160,
    "start_time": "2024-12-09T18:02:19.071Z"
   },
   {
    "duration": 790,
    "start_time": "2024-12-09T18:02:22.945Z"
   },
   {
    "duration": 391,
    "start_time": "2024-12-09T18:02:23.737Z"
   },
   {
    "duration": 108,
    "start_time": "2024-12-09T18:03:22.335Z"
   },
   {
    "duration": 272,
    "start_time": "2024-12-09T18:05:41.689Z"
   },
   {
    "duration": 17,
    "start_time": "2024-12-09T18:05:41.964Z"
   },
   {
    "duration": 9,
    "start_time": "2024-12-09T18:05:42.100Z"
   },
   {
    "duration": 11,
    "start_time": "2024-12-09T18:05:42.630Z"
   },
   {
    "duration": 2,
    "start_time": "2024-12-09T18:07:27.356Z"
   },
   {
    "duration": 227,
    "start_time": "2024-12-09T18:07:27.360Z"
   },
   {
    "duration": 11,
    "start_time": "2024-12-09T18:07:27.589Z"
   },
   {
    "duration": 18,
    "start_time": "2024-12-09T18:07:27.602Z"
   },
   {
    "duration": 35,
    "start_time": "2024-12-09T18:08:34.730Z"
   },
   {
    "duration": 33,
    "start_time": "2024-12-09T18:11:19.119Z"
   },
   {
    "duration": 5,
    "start_time": "2024-12-09T18:12:19.822Z"
   },
   {
    "duration": 2642,
    "start_time": "2024-12-10T11:57:51.093Z"
   },
   {
    "duration": 283,
    "start_time": "2024-12-10T11:57:53.737Z"
   },
   {
    "duration": 13,
    "start_time": "2024-12-10T11:57:54.022Z"
   },
   {
    "duration": 33,
    "start_time": "2024-12-10T11:57:54.037Z"
   },
   {
    "duration": 10,
    "start_time": "2024-12-10T11:57:54.072Z"
   },
   {
    "duration": 51,
    "start_time": "2024-12-10T11:57:54.084Z"
   },
   {
    "duration": 215,
    "start_time": "2024-12-10T11:57:54.436Z"
   },
   {
    "duration": 2,
    "start_time": "2024-12-10T11:58:50.690Z"
   },
   {
    "duration": 212,
    "start_time": "2024-12-10T11:58:50.837Z"
   },
   {
    "duration": 10,
    "start_time": "2024-12-10T11:58:51.286Z"
   },
   {
    "duration": 33,
    "start_time": "2024-12-10T11:58:51.449Z"
   },
   {
    "duration": 10,
    "start_time": "2024-12-10T11:58:51.927Z"
   },
   {
    "duration": 32,
    "start_time": "2024-12-10T11:58:52.566Z"
   },
   {
    "duration": 10,
    "start_time": "2024-12-10T11:58:53.767Z"
   },
   {
    "duration": 32,
    "start_time": "2024-12-10T11:58:54.515Z"
   },
   {
    "duration": 169,
    "start_time": "2024-12-11T11:10:50.169Z"
   },
   {
    "duration": 2742,
    "start_time": "2024-12-11T11:11:00.149Z"
   },
   {
    "duration": 319,
    "start_time": "2024-12-11T11:11:02.894Z"
   },
   {
    "duration": 13,
    "start_time": "2024-12-11T11:11:03.215Z"
   },
   {
    "duration": 32,
    "start_time": "2024-12-11T11:11:03.230Z"
   },
   {
    "duration": 9,
    "start_time": "2024-12-11T11:11:03.264Z"
   },
   {
    "duration": 58,
    "start_time": "2024-12-11T11:11:03.275Z"
   },
   {
    "duration": 9,
    "start_time": "2024-12-11T11:11:03.335Z"
   },
   {
    "duration": 31,
    "start_time": "2024-12-11T11:11:03.345Z"
   },
   {
    "duration": 257,
    "start_time": "2024-12-11T11:11:03.378Z"
   },
   {
    "duration": 0,
    "start_time": "2024-12-11T11:11:03.637Z"
   },
   {
    "duration": 7,
    "start_time": "2024-12-11T11:12:52.717Z"
   },
   {
    "duration": 22,
    "start_time": "2024-12-11T11:12:55.128Z"
   },
   {
    "duration": 19,
    "start_time": "2024-12-11T11:37:37.074Z"
   },
   {
    "duration": 40,
    "start_time": "2024-12-11T11:37:59.091Z"
   },
   {
    "duration": 912,
    "start_time": "2024-12-11T11:38:12.499Z"
   },
   {
    "duration": 251,
    "start_time": "2024-12-11T11:38:13.413Z"
   },
   {
    "duration": 17,
    "start_time": "2024-12-11T11:38:13.666Z"
   },
   {
    "duration": 43,
    "start_time": "2024-12-11T11:38:13.684Z"
   },
   {
    "duration": 10,
    "start_time": "2024-12-11T11:38:13.730Z"
   },
   {
    "duration": 36,
    "start_time": "2024-12-11T11:38:13.742Z"
   },
   {
    "duration": 31,
    "start_time": "2024-12-11T11:38:13.780Z"
   },
   {
    "duration": 35,
    "start_time": "2024-12-11T11:38:13.813Z"
   },
   {
    "duration": 5,
    "start_time": "2024-12-11T11:38:13.850Z"
   },
   {
    "duration": 15,
    "start_time": "2024-12-11T11:38:13.857Z"
   },
   {
    "duration": 193,
    "start_time": "2024-12-11T11:38:13.874Z"
   },
   {
    "duration": 0,
    "start_time": "2024-12-11T11:38:14.069Z"
   },
   {
    "duration": 168,
    "start_time": "2024-12-11T11:38:41.380Z"
   },
   {
    "duration": 660,
    "start_time": "2024-12-11T11:38:46.337Z"
   },
   {
    "duration": 5,
    "start_time": "2024-12-11T11:39:13.720Z"
   },
   {
    "duration": 894,
    "start_time": "2024-12-11T11:39:23.165Z"
   },
   {
    "duration": 228,
    "start_time": "2024-12-11T11:39:24.062Z"
   },
   {
    "duration": 18,
    "start_time": "2024-12-11T11:39:24.292Z"
   },
   {
    "duration": 44,
    "start_time": "2024-12-11T11:39:24.312Z"
   },
   {
    "duration": 13,
    "start_time": "2024-12-11T11:39:24.359Z"
   },
   {
    "duration": 53,
    "start_time": "2024-12-11T11:39:24.374Z"
   },
   {
    "duration": 9,
    "start_time": "2024-12-11T11:39:24.429Z"
   },
   {
    "duration": 37,
    "start_time": "2024-12-11T11:39:24.440Z"
   },
   {
    "duration": 300,
    "start_time": "2024-12-11T11:39:24.479Z"
   },
   {
    "duration": 0,
    "start_time": "2024-12-11T11:39:24.781Z"
   },
   {
    "duration": 0,
    "start_time": "2024-12-11T11:39:24.782Z"
   },
   {
    "duration": 0,
    "start_time": "2024-12-11T11:39:24.784Z"
   },
   {
    "duration": 4,
    "start_time": "2024-12-11T11:39:46.451Z"
   },
   {
    "duration": 5,
    "start_time": "2024-12-11T11:39:48.409Z"
   },
   {
    "duration": 13,
    "start_time": "2024-12-11T11:39:48.563Z"
   },
   {
    "duration": 18,
    "start_time": "2024-12-11T11:39:48.725Z"
   },
   {
    "duration": 18,
    "start_time": "2024-12-11T11:39:48.907Z"
   },
   {
    "duration": 16,
    "start_time": "2024-12-11T11:41:27.184Z"
   },
   {
    "duration": 102,
    "start_time": "2024-12-11T11:41:31.110Z"
   },
   {
    "duration": 5,
    "start_time": "2024-12-11T11:42:17.108Z"
   },
   {
    "duration": 4,
    "start_time": "2024-12-11T11:42:17.273Z"
   },
   {
    "duration": 5,
    "start_time": "2024-12-11T11:42:19.464Z"
   },
   {
    "duration": 13,
    "start_time": "2024-12-11T11:42:19.615Z"
   },
   {
    "duration": 15,
    "start_time": "2024-12-11T11:42:19.757Z"
   },
   {
    "duration": 48,
    "start_time": "2024-12-11T11:42:19.906Z"
   },
   {
    "duration": 14,
    "start_time": "2024-12-11T11:44:22.617Z"
   },
   {
    "duration": 9,
    "start_time": "2024-12-11T11:44:41.641Z"
   },
   {
    "duration": 451,
    "start_time": "2024-12-11T11:45:10.570Z"
   },
   {
    "duration": 56,
    "start_time": "2024-12-11T11:45:17.863Z"
   },
   {
    "duration": 4,
    "start_time": "2024-12-11T11:46:45.434Z"
   },
   {
    "duration": 48,
    "start_time": "2024-12-11T11:47:03.141Z"
   },
   {
    "duration": 4,
    "start_time": "2024-12-11T11:47:18.756Z"
   },
   {
    "duration": 5,
    "start_time": "2024-12-11T12:05:00.475Z"
   },
   {
    "duration": 8,
    "start_time": "2024-12-12T10:02:16.419Z"
   },
   {
    "duration": 3,
    "start_time": "2024-12-12T10:02:23.165Z"
   },
   {
    "duration": 4,
    "start_time": "2024-12-12T10:02:27.771Z"
   },
   {
    "duration": 160,
    "start_time": "2024-12-12T10:02:32.319Z"
   },
   {
    "duration": 12,
    "start_time": "2024-12-12T10:04:15.533Z"
   },
   {
    "duration": 2621,
    "start_time": "2024-12-12T10:04:22.415Z"
   },
   {
    "duration": 304,
    "start_time": "2024-12-12T10:04:25.042Z"
   },
   {
    "duration": 13,
    "start_time": "2024-12-12T10:04:25.348Z"
   },
   {
    "duration": 34,
    "start_time": "2024-12-12T10:04:25.362Z"
   },
   {
    "duration": 9,
    "start_time": "2024-12-12T10:04:25.400Z"
   },
   {
    "duration": 60,
    "start_time": "2024-12-12T10:04:25.410Z"
   },
   {
    "duration": 9,
    "start_time": "2024-12-12T10:04:25.471Z"
   },
   {
    "duration": 31,
    "start_time": "2024-12-12T10:04:25.482Z"
   },
   {
    "duration": 4,
    "start_time": "2024-12-12T10:04:25.514Z"
   },
   {
    "duration": 8,
    "start_time": "2024-12-12T10:04:25.543Z"
   },
   {
    "duration": 16,
    "start_time": "2024-12-12T10:04:25.553Z"
   },
   {
    "duration": 4,
    "start_time": "2024-12-12T10:04:25.571Z"
   },
   {
    "duration": 4,
    "start_time": "2024-12-12T10:10:25.553Z"
   },
   {
    "duration": 11,
    "start_time": "2024-12-12T10:10:25.559Z"
   },
   {
    "duration": 9,
    "start_time": "2024-12-12T10:10:25.571Z"
   },
   {
    "duration": 4,
    "start_time": "2024-12-12T10:10:25.582Z"
   },
   {
    "duration": 3,
    "start_time": "2024-12-12T10:13:50.777Z"
   },
   {
    "duration": 11,
    "start_time": "2024-12-12T10:13:50.952Z"
   },
   {
    "duration": 12,
    "start_time": "2024-12-12T10:13:51.159Z"
   },
   {
    "duration": 4,
    "start_time": "2024-12-12T10:13:51.397Z"
   },
   {
    "duration": 3,
    "start_time": "2024-12-12T10:36:03.844Z"
   },
   {
    "duration": 3,
    "start_time": "2024-12-12T10:36:04.361Z"
   },
   {
    "duration": 226,
    "start_time": "2024-12-12T10:36:04.954Z"
   },
   {
    "duration": 3,
    "start_time": "2024-12-12T10:38:53.698Z"
   },
   {
    "duration": 160,
    "start_time": "2024-12-16T10:58:51.802Z"
   },
   {
    "duration": 2627,
    "start_time": "2024-12-16T10:58:59.688Z"
   },
   {
    "duration": 305,
    "start_time": "2024-12-16T10:59:02.318Z"
   },
   {
    "duration": 12,
    "start_time": "2024-12-16T10:59:02.625Z"
   },
   {
    "duration": 33,
    "start_time": "2024-12-16T10:59:02.639Z"
   },
   {
    "duration": 9,
    "start_time": "2024-12-16T10:59:02.675Z"
   },
   {
    "duration": 44,
    "start_time": "2024-12-16T10:59:02.686Z"
   },
   {
    "duration": 9,
    "start_time": "2024-12-16T10:59:02.731Z"
   },
   {
    "duration": 31,
    "start_time": "2024-12-16T10:59:02.742Z"
   },
   {
    "duration": 3,
    "start_time": "2024-12-16T10:59:02.775Z"
   },
   {
    "duration": 10,
    "start_time": "2024-12-16T10:59:02.809Z"
   },
   {
    "duration": 17,
    "start_time": "2024-12-16T10:59:02.821Z"
   },
   {
    "duration": 68,
    "start_time": "2024-12-16T10:59:02.840Z"
   },
   {
    "duration": 7,
    "start_time": "2024-12-16T10:59:02.910Z"
   },
   {
    "duration": 92,
    "start_time": "2024-12-16T10:59:02.922Z"
   },
   {
    "duration": 9,
    "start_time": "2024-12-16T10:59:03.016Z"
   },
   {
    "duration": 4,
    "start_time": "2024-12-16T10:59:03.027Z"
   },
   {
    "duration": 3,
    "start_time": "2024-12-16T10:59:03.034Z"
   },
   {
    "duration": 73,
    "start_time": "2024-12-16T10:59:03.038Z"
   },
   {
    "duration": 10,
    "start_time": "2024-12-16T10:59:03.113Z"
   },
   {
    "duration": 4,
    "start_time": "2024-12-16T10:59:03.125Z"
   },
   {
    "duration": 79,
    "start_time": "2024-12-16T10:59:03.131Z"
   },
   {
    "duration": 4,
    "start_time": "2024-12-16T10:59:03.214Z"
   },
   {
    "duration": 4,
    "start_time": "2024-12-16T10:59:03.221Z"
   },
   {
    "duration": 869,
    "start_time": "2024-12-16T12:54:52.565Z"
   },
   {
    "duration": 224,
    "start_time": "2024-12-16T12:54:53.436Z"
   },
   {
    "duration": 13,
    "start_time": "2024-12-16T12:54:53.662Z"
   },
   {
    "duration": 42,
    "start_time": "2024-12-16T12:54:53.677Z"
   },
   {
    "duration": 9,
    "start_time": "2024-12-16T12:54:53.721Z"
   },
   {
    "duration": 31,
    "start_time": "2024-12-16T12:54:53.731Z"
   },
   {
    "duration": 9,
    "start_time": "2024-12-16T12:54:53.763Z"
   },
   {
    "duration": 60,
    "start_time": "2024-12-16T12:54:53.774Z"
   },
   {
    "duration": 3,
    "start_time": "2024-12-16T12:54:53.836Z"
   },
   {
    "duration": 5,
    "start_time": "2024-12-16T12:54:53.842Z"
   },
   {
    "duration": 0,
    "start_time": "2024-12-16T12:54:53.849Z"
   },
   {
    "duration": 0,
    "start_time": "2024-12-16T12:54:53.851Z"
   },
   {
    "duration": 0,
    "start_time": "2024-12-16T12:54:53.852Z"
   },
   {
    "duration": 0,
    "start_time": "2024-12-16T12:54:53.854Z"
   },
   {
    "duration": 276,
    "start_time": "2024-12-16T12:56:32.730Z"
   },
   {
    "duration": 4,
    "start_time": "2024-12-16T12:56:44.795Z"
   },
   {
    "duration": 17,
    "start_time": "2024-12-16T12:56:47.347Z"
   },
   {
    "duration": 16,
    "start_time": "2024-12-16T12:56:50.675Z"
   },
   {
    "duration": 44,
    "start_time": "2024-12-16T12:57:29.158Z"
   },
   {
    "duration": 15,
    "start_time": "2024-12-16T12:57:31.855Z"
   },
   {
    "duration": 33,
    "start_time": "2024-12-16T12:58:13.225Z"
   },
   {
    "duration": 844,
    "start_time": "2024-12-16T12:58:20.597Z"
   },
   {
    "duration": 221,
    "start_time": "2024-12-16T12:58:21.444Z"
   },
   {
    "duration": 12,
    "start_time": "2024-12-16T12:58:21.667Z"
   },
   {
    "duration": 41,
    "start_time": "2024-12-16T12:58:21.680Z"
   },
   {
    "duration": 9,
    "start_time": "2024-12-16T12:58:21.723Z"
   },
   {
    "duration": 30,
    "start_time": "2024-12-16T12:58:21.734Z"
   },
   {
    "duration": 12,
    "start_time": "2024-12-16T12:58:21.766Z"
   },
   {
    "duration": 57,
    "start_time": "2024-12-16T12:58:21.780Z"
   },
   {
    "duration": 3,
    "start_time": "2024-12-16T12:58:21.839Z"
   },
   {
    "duration": 399,
    "start_time": "2024-12-16T12:58:21.844Z"
   },
   {
    "duration": 0,
    "start_time": "2024-12-16T12:58:22.244Z"
   },
   {
    "duration": 0,
    "start_time": "2024-12-16T12:58:22.246Z"
   },
   {
    "duration": 0,
    "start_time": "2024-12-16T12:58:22.246Z"
   },
   {
    "duration": 0,
    "start_time": "2024-12-16T12:58:22.248Z"
   },
   {
    "duration": 0,
    "start_time": "2024-12-16T12:58:22.249Z"
   },
   {
    "duration": 0,
    "start_time": "2024-12-16T12:58:22.251Z"
   },
   {
    "duration": 4,
    "start_time": "2024-12-16T12:58:46.517Z"
   },
   {
    "duration": 34,
    "start_time": "2024-12-16T12:58:48.761Z"
   },
   {
    "duration": 860,
    "start_time": "2024-12-16T12:58:59.873Z"
   },
   {
    "duration": 224,
    "start_time": "2024-12-16T12:59:00.735Z"
   },
   {
    "duration": 12,
    "start_time": "2024-12-16T12:59:00.960Z"
   },
   {
    "duration": 45,
    "start_time": "2024-12-16T12:59:00.975Z"
   },
   {
    "duration": 9,
    "start_time": "2024-12-16T12:59:01.022Z"
   },
   {
    "duration": 32,
    "start_time": "2024-12-16T12:59:01.032Z"
   },
   {
    "duration": 9,
    "start_time": "2024-12-16T12:59:01.066Z"
   },
   {
    "duration": 56,
    "start_time": "2024-12-16T12:59:01.077Z"
   },
   {
    "duration": 5,
    "start_time": "2024-12-16T12:59:01.134Z"
   },
   {
    "duration": 414,
    "start_time": "2024-12-16T12:59:01.141Z"
   },
   {
    "duration": 0,
    "start_time": "2024-12-16T12:59:01.557Z"
   },
   {
    "duration": 0,
    "start_time": "2024-12-16T12:59:01.559Z"
   },
   {
    "duration": 0,
    "start_time": "2024-12-16T12:59:01.560Z"
   },
   {
    "duration": 0,
    "start_time": "2024-12-16T12:59:01.562Z"
   },
   {
    "duration": 0,
    "start_time": "2024-12-16T12:59:01.563Z"
   },
   {
    "duration": 41,
    "start_time": "2024-12-16T13:00:09.375Z"
   },
   {
    "duration": 81,
    "start_time": "2024-12-16T13:03:40.638Z"
   },
   {
    "duration": 70,
    "start_time": "2024-12-16T13:04:27.657Z"
   },
   {
    "duration": 6,
    "start_time": "2024-12-16T13:05:59.479Z"
   },
   {
    "duration": 6,
    "start_time": "2024-12-16T13:06:38.238Z"
   },
   {
    "duration": 126,
    "start_time": "2024-12-16T13:06:45.087Z"
   },
   {
    "duration": 3,
    "start_time": "2024-12-16T13:07:17.487Z"
   },
   {
    "duration": 78,
    "start_time": "2024-12-16T13:07:23.344Z"
   },
   {
    "duration": 117,
    "start_time": "2024-12-16T13:07:47.794Z"
   },
   {
    "duration": 116,
    "start_time": "2024-12-16T13:08:18.004Z"
   },
   {
    "duration": 129,
    "start_time": "2024-12-16T13:08:25.986Z"
   },
   {
    "duration": 114,
    "start_time": "2024-12-16T13:08:35.209Z"
   },
   {
    "duration": 134,
    "start_time": "2024-12-16T13:08:41.095Z"
   },
   {
    "duration": 80,
    "start_time": "2024-12-16T13:08:53.744Z"
   },
   {
    "duration": 124,
    "start_time": "2024-12-16T13:09:40.296Z"
   },
   {
    "duration": 8,
    "start_time": "2024-12-16T14:18:10.244Z"
   },
   {
    "duration": 159,
    "start_time": "2024-12-16T14:20:16.698Z"
   },
   {
    "duration": 2661,
    "start_time": "2024-12-16T14:20:23.786Z"
   },
   {
    "duration": 300,
    "start_time": "2024-12-16T14:20:26.449Z"
   },
   {
    "duration": 14,
    "start_time": "2024-12-16T14:20:26.751Z"
   },
   {
    "duration": 37,
    "start_time": "2024-12-16T14:20:26.767Z"
   },
   {
    "duration": 25,
    "start_time": "2024-12-16T14:20:26.807Z"
   },
   {
    "duration": 31,
    "start_time": "2024-12-16T14:20:26.835Z"
   },
   {
    "duration": 10,
    "start_time": "2024-12-16T14:20:26.867Z"
   },
   {
    "duration": 53,
    "start_time": "2024-12-16T14:20:26.879Z"
   },
   {
    "duration": 200,
    "start_time": "2024-12-16T14:20:26.934Z"
   },
   {
    "duration": 5,
    "start_time": "2024-12-16T14:20:27.136Z"
   },
   {
    "duration": 4,
    "start_time": "2024-12-16T14:20:27.146Z"
   },
   {
    "duration": 3,
    "start_time": "2024-12-16T14:20:30.303Z"
   },
   {
    "duration": 302,
    "start_time": "2024-12-16T14:20:35.920Z"
   },
   {
    "duration": 3,
    "start_time": "2024-12-16T14:21:02.182Z"
   },
   {
    "duration": 60,
    "start_time": "2024-12-16T14:21:05.386Z"
   },
   {
    "duration": 61,
    "start_time": "2024-12-16T14:21:49.140Z"
   },
   {
    "duration": 150,
    "start_time": "2024-12-16T14:24:52.782Z"
   },
   {
    "duration": 13,
    "start_time": "2024-12-16T14:25:50.116Z"
   },
   {
    "duration": 13,
    "start_time": "2024-12-16T14:27:17.318Z"
   },
   {
    "duration": 4,
    "start_time": "2024-12-16T14:27:18.197Z"
   },
   {
    "duration": 15,
    "start_time": "2024-12-16T14:27:19.133Z"
   },
   {
    "duration": 4,
    "start_time": "2024-12-16T14:39:04.944Z"
   },
   {
    "duration": 4,
    "start_time": "2024-12-16T15:48:33.313Z"
   },
   {
    "duration": 883,
    "start_time": "2024-12-16T15:49:10.604Z"
   },
   {
    "duration": 222,
    "start_time": "2024-12-16T15:49:11.489Z"
   },
   {
    "duration": 13,
    "start_time": "2024-12-16T15:49:11.713Z"
   },
   {
    "duration": 38,
    "start_time": "2024-12-16T15:49:11.727Z"
   },
   {
    "duration": 10,
    "start_time": "2024-12-16T15:49:11.767Z"
   },
   {
    "duration": 58,
    "start_time": "2024-12-16T15:49:11.779Z"
   },
   {
    "duration": 9,
    "start_time": "2024-12-16T15:49:11.839Z"
   },
   {
    "duration": 32,
    "start_time": "2024-12-16T15:49:11.850Z"
   },
   {
    "duration": 154,
    "start_time": "2024-12-16T15:49:11.883Z"
   },
   {
    "duration": 3,
    "start_time": "2024-12-16T15:49:12.039Z"
   },
   {
    "duration": 94,
    "start_time": "2024-12-16T15:49:12.043Z"
   },
   {
    "duration": 3,
    "start_time": "2024-12-16T15:49:12.139Z"
   },
   {
    "duration": 305,
    "start_time": "2024-12-16T15:49:12.144Z"
   },
   {
    "duration": 171,
    "start_time": "2024-12-16T16:54:48.995Z"
   },
   {
    "duration": 2711,
    "start_time": "2024-12-16T16:55:12.068Z"
   },
   {
    "duration": 291,
    "start_time": "2024-12-16T16:55:14.781Z"
   },
   {
    "duration": 12,
    "start_time": "2024-12-16T16:55:15.074Z"
   },
   {
    "duration": 44,
    "start_time": "2024-12-16T16:55:15.088Z"
   },
   {
    "duration": 10,
    "start_time": "2024-12-16T16:55:15.134Z"
   },
   {
    "duration": 35,
    "start_time": "2024-12-16T16:55:15.145Z"
   },
   {
    "duration": 9,
    "start_time": "2024-12-16T16:55:15.182Z"
   },
   {
    "duration": 59,
    "start_time": "2024-12-16T16:55:15.193Z"
   },
   {
    "duration": 178,
    "start_time": "2024-12-16T16:55:15.254Z"
   },
   {
    "duration": 2,
    "start_time": "2024-12-16T16:55:15.435Z"
   },
   {
    "duration": 16,
    "start_time": "2024-12-16T16:55:15.441Z"
   },
   {
    "duration": 16103,
    "start_time": "2024-12-16T16:55:15.459Z"
   },
   {
    "duration": 13,
    "start_time": "2024-12-16T17:09:32.324Z"
   },
   {
    "duration": 942,
    "start_time": "2024-12-16T17:09:47.453Z"
   },
   {
    "duration": 238,
    "start_time": "2024-12-16T17:09:48.397Z"
   },
   {
    "duration": 12,
    "start_time": "2024-12-16T17:09:48.637Z"
   },
   {
    "duration": 35,
    "start_time": "2024-12-16T17:09:48.651Z"
   },
   {
    "duration": 10,
    "start_time": "2024-12-16T17:09:48.689Z"
   },
   {
    "duration": 54,
    "start_time": "2024-12-16T17:09:48.701Z"
   },
   {
    "duration": 9,
    "start_time": "2024-12-16T17:09:48.757Z"
   },
   {
    "duration": 34,
    "start_time": "2024-12-16T17:09:48.768Z"
   },
   {
    "duration": 154,
    "start_time": "2024-12-16T17:09:48.804Z"
   },
   {
    "duration": 5,
    "start_time": "2024-12-16T17:09:49.032Z"
   },
   {
    "duration": 5,
    "start_time": "2024-12-16T17:09:49.039Z"
   },
   {
    "duration": 15,
    "start_time": "2024-12-16T17:09:49.046Z"
   },
   {
    "duration": 16239,
    "start_time": "2024-12-16T17:09:49.131Z"
   },
   {
    "duration": 5380,
    "start_time": "2024-12-16T17:10:20.729Z"
   },
   {
    "duration": 893,
    "start_time": "2024-12-16T17:10:47.609Z"
   },
   {
    "duration": 226,
    "start_time": "2024-12-16T17:10:48.504Z"
   },
   {
    "duration": 12,
    "start_time": "2024-12-16T17:10:48.732Z"
   },
   {
    "duration": 32,
    "start_time": "2024-12-16T17:10:48.746Z"
   },
   {
    "duration": 9,
    "start_time": "2024-12-16T17:10:48.781Z"
   },
   {
    "duration": 56,
    "start_time": "2024-12-16T17:10:48.792Z"
   },
   {
    "duration": 9,
    "start_time": "2024-12-16T17:10:48.850Z"
   },
   {
    "duration": 33,
    "start_time": "2024-12-16T17:10:48.860Z"
   },
   {
    "duration": 146,
    "start_time": "2024-12-16T17:10:48.895Z"
   },
   {
    "duration": 4,
    "start_time": "2024-12-16T17:10:49.043Z"
   },
   {
    "duration": 2,
    "start_time": "2024-12-16T17:10:49.050Z"
   },
   {
    "duration": 4,
    "start_time": "2024-12-16T17:10:49.054Z"
   },
   {
    "duration": 5452,
    "start_time": "2024-12-16T17:10:49.059Z"
   },
   {
    "duration": 16135,
    "start_time": "2024-12-16T17:10:54.513Z"
   },
   {
    "duration": 13,
    "start_time": "2024-12-16T17:32:45.228Z"
   },
   {
    "duration": 13,
    "start_time": "2024-12-16T17:32:53.241Z"
   },
   {
    "duration": 16153,
    "start_time": "2024-12-16T17:35:18.128Z"
   },
   {
    "duration": 5649,
    "start_time": "2024-12-16T17:36:02.530Z"
   },
   {
    "duration": 16458,
    "start_time": "2024-12-16T17:36:14.535Z"
   },
   {
    "duration": 16153,
    "start_time": "2024-12-16T17:36:53.426Z"
   },
   {
    "duration": 2672,
    "start_time": "2024-12-17T11:33:10.846Z"
   },
   {
    "duration": 317,
    "start_time": "2024-12-17T11:33:13.520Z"
   },
   {
    "duration": 12,
    "start_time": "2024-12-17T11:33:13.839Z"
   },
   {
    "duration": 42,
    "start_time": "2024-12-17T11:33:13.853Z"
   },
   {
    "duration": 8,
    "start_time": "2024-12-17T11:33:13.898Z"
   },
   {
    "duration": 31,
    "start_time": "2024-12-17T11:33:13.908Z"
   },
   {
    "duration": 9,
    "start_time": "2024-12-17T11:33:13.941Z"
   },
   {
    "duration": 64,
    "start_time": "2024-12-17T11:33:13.952Z"
   },
   {
    "duration": 171,
    "start_time": "2024-12-17T11:33:14.018Z"
   },
   {
    "duration": 4,
    "start_time": "2024-12-17T11:33:14.192Z"
   },
   {
    "duration": 89,
    "start_time": "2024-12-17T11:33:14.198Z"
   },
   {
    "duration": 4,
    "start_time": "2024-12-17T11:33:14.288Z"
   },
   {
    "duration": 5581,
    "start_time": "2024-12-17T11:33:14.294Z"
   },
   {
    "duration": 15980,
    "start_time": "2024-12-17T11:34:14.915Z"
   },
   {
    "duration": 15940,
    "start_time": "2024-12-17T11:37:01.423Z"
   },
   {
    "duration": 163,
    "start_time": "2024-12-18T11:17:34.139Z"
   },
   {
    "duration": 2572,
    "start_time": "2024-12-18T11:17:57.837Z"
   },
   {
    "duration": 294,
    "start_time": "2024-12-18T11:18:00.411Z"
   },
   {
    "duration": 14,
    "start_time": "2024-12-18T11:18:00.706Z"
   },
   {
    "duration": 33,
    "start_time": "2024-12-18T11:18:00.723Z"
   },
   {
    "duration": 19,
    "start_time": "2024-12-18T11:18:00.758Z"
   },
   {
    "duration": 31,
    "start_time": "2024-12-18T11:18:00.779Z"
   },
   {
    "duration": 9,
    "start_time": "2024-12-18T11:18:00.812Z"
   },
   {
    "duration": 56,
    "start_time": "2024-12-18T11:18:00.822Z"
   },
   {
    "duration": 249,
    "start_time": "2024-12-18T11:18:07.321Z"
   },
   {
    "duration": 897,
    "start_time": "2024-12-18T11:22:04.788Z"
   },
   {
    "duration": 225,
    "start_time": "2024-12-18T11:22:05.687Z"
   },
   {
    "duration": 13,
    "start_time": "2024-12-18T11:22:05.914Z"
   },
   {
    "duration": 41,
    "start_time": "2024-12-18T11:22:05.929Z"
   },
   {
    "duration": 8,
    "start_time": "2024-12-18T11:22:05.973Z"
   },
   {
    "duration": 30,
    "start_time": "2024-12-18T11:22:05.983Z"
   },
   {
    "duration": 9,
    "start_time": "2024-12-18T11:22:06.015Z"
   },
   {
    "duration": 56,
    "start_time": "2024-12-18T11:22:06.025Z"
   },
   {
    "duration": 190,
    "start_time": "2024-12-18T11:22:06.083Z"
   },
   {
    "duration": 3,
    "start_time": "2024-12-18T11:22:06.274Z"
   },
   {
    "duration": 14,
    "start_time": "2024-12-18T11:22:06.279Z"
   },
   {
    "duration": 15895,
    "start_time": "2024-12-18T11:22:06.296Z"
   },
   {
    "duration": 6,
    "start_time": "2024-12-18T11:28:33.547Z"
   },
   {
    "duration": 4,
    "start_time": "2024-12-18T11:35:04.315Z"
   },
   {
    "duration": 865,
    "start_time": "2024-12-18T11:41:56.442Z"
   },
   {
    "duration": 240,
    "start_time": "2024-12-18T11:41:57.309Z"
   },
   {
    "duration": 11,
    "start_time": "2024-12-18T11:41:57.551Z"
   },
   {
    "duration": 36,
    "start_time": "2024-12-18T11:41:57.564Z"
   },
   {
    "duration": 9,
    "start_time": "2024-12-18T11:41:57.601Z"
   },
   {
    "duration": 30,
    "start_time": "2024-12-18T11:41:57.612Z"
   },
   {
    "duration": 30,
    "start_time": "2024-12-18T11:41:57.644Z"
   },
   {
    "duration": 32,
    "start_time": "2024-12-18T11:41:57.675Z"
   },
   {
    "duration": 170,
    "start_time": "2024-12-18T11:41:57.708Z"
   },
   {
    "duration": 3,
    "start_time": "2024-12-18T11:41:57.881Z"
   },
   {
    "duration": 90,
    "start_time": "2024-12-18T11:41:57.886Z"
   },
   {
    "duration": 15793,
    "start_time": "2024-12-18T11:41:57.978Z"
   },
   {
    "duration": 871,
    "start_time": "2024-12-18T12:02:40.616Z"
   },
   {
    "duration": 221,
    "start_time": "2024-12-18T12:02:41.489Z"
   },
   {
    "duration": 12,
    "start_time": "2024-12-18T12:02:41.712Z"
   },
   {
    "duration": 33,
    "start_time": "2024-12-18T12:02:41.726Z"
   },
   {
    "duration": 9,
    "start_time": "2024-12-18T12:02:41.771Z"
   },
   {
    "duration": 30,
    "start_time": "2024-12-18T12:02:41.782Z"
   },
   {
    "duration": 10,
    "start_time": "2024-12-18T12:02:41.814Z"
   },
   {
    "duration": 55,
    "start_time": "2024-12-18T12:02:41.827Z"
   },
   {
    "duration": 108,
    "start_time": "2024-12-18T12:02:41.884Z"
   },
   {
    "duration": 3,
    "start_time": "2024-12-18T12:02:42.072Z"
   },
   {
    "duration": 16,
    "start_time": "2024-12-18T12:02:42.076Z"
   },
   {
    "duration": 15881,
    "start_time": "2024-12-18T12:02:42.094Z"
   },
   {
    "duration": 2668,
    "start_time": "2024-12-18T23:25:33.726Z"
   },
   {
    "duration": 313,
    "start_time": "2024-12-18T23:25:36.396Z"
   },
   {
    "duration": 13,
    "start_time": "2024-12-18T23:25:38.015Z"
   },
   {
    "duration": 35,
    "start_time": "2024-12-18T23:25:38.706Z"
   },
   {
    "duration": 10,
    "start_time": "2024-12-18T23:25:40.061Z"
   },
   {
    "duration": 34,
    "start_time": "2024-12-18T23:25:40.870Z"
   },
   {
    "duration": 13,
    "start_time": "2024-12-18T23:25:41.687Z"
   },
   {
    "duration": 31,
    "start_time": "2024-12-18T23:25:42.020Z"
   },
   {
    "duration": 222,
    "start_time": "2024-12-18T23:25:54.386Z"
   },
   {
    "duration": 2,
    "start_time": "2024-12-18T23:26:15.848Z"
   },
   {
    "duration": 13,
    "start_time": "2024-12-18T23:26:18.206Z"
   },
   {
    "duration": 16007,
    "start_time": "2024-12-18T23:26:47.261Z"
   }
  ],
  "kernelspec": {
   "display_name": "Python 3 (ipykernel)",
   "language": "python",
   "name": "python3"
  },
  "language_info": {
   "codemirror_mode": {
    "name": "ipython",
    "version": 3
   },
   "file_extension": ".py",
   "mimetype": "text/x-python",
   "name": "python",
   "nbconvert_exporter": "python",
   "pygments_lexer": "ipython3",
   "version": "3.9.19"
  },
  "toc": {
   "base_numbering": 1,
   "nav_menu": {},
   "number_sections": true,
   "sideBar": true,
   "skip_h1_title": true,
   "title_cell": "Table of Contents",
   "title_sidebar": "Contents",
   "toc_cell": false,
   "toc_position": {},
   "toc_section_display": true,
   "toc_window_display": false
  }
 },
 "nbformat": 4,
 "nbformat_minor": 2
}
